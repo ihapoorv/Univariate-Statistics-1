{
 "cells": [
  {
   "cell_type": "markdown",
   "metadata": {},
   "source": [
    "# Statistics:"
   ]
  },
  {
   "cell_type": "markdown",
   "metadata": {},
   "source": [
    "## Univariate Statistics:-\n",
    "Univariate Statistics are required to explore dataset. Uni means one so, the data has only one variable. It discovers association between a variable and the potential predictors. Most of the univariate analysis are based on the linear model."
   ]
  },
  {
   "cell_type": "markdown",
   "metadata": {},
   "source": [
    "### The Main Statistical Measures:-\n",
    "1. Mean: $\\bar{x} = \\frac{\\sum{x_{i}}}{n}$\n",
    "2. Variance: $Var(X) = E((X-E(X))^2) = E(X^2)-(E(X))^2$, the estimator is: $\\sigma^2_{x} = \\frac{\\sum({x_{i}-\\bar{x}})^2}{n-1}$\n",
    "3. Standard Deviation: $Std(X) = \\sqrt{Var(X)}$, the estimator is: $\\sigma_{x} = \\sqrt{\\sigma^2_{x}}$\n",
    "4. Covariance: $Cov(X,Y) = E((X-E(X))(Y-E(Y))) = E(XY)-E(X)E(Y)$, the estimator is: $\\sigma_{xy} = \\frac{\\sum{(x_{i}-\\bar{x})(y_{i}-\\bar{y})}}{n}$\n",
    "5. Correlation: $Cor(X,Y) = \\frac{Cov(X,Y)}{Std(X)Std(Y)}$, the estimator is: $\\rho_{xy} = \\frac{\\sigma_{xy}}{\\sigma_{x}\\sigma_{y}}$\n",
    "6. Standard Error(SE): $SE(X) = \\frac{Std(X)}{\\sqrt{n}}$, the estimator is: $SE(\\bar{x}) = \\frac{\\sigma{\\bar{x}}}{\\sqrt{n}}$"
   ]
  },
  {
   "cell_type": "code",
   "execution_count": 13,
   "metadata": {},
   "outputs": [],
   "source": [
    "#Generate two random sample: x ~ N(1.78,0.1) and y ~ N(1.66,0.1), both of size 10\n",
    "import numpy as np\n",
    "import pandas as pd\n",
    "import random\n",
    "x = []\n",
    "for _ in range(0,10):\n",
    "    x.append(random.uniform(1.78,0.1))"
   ]
  },
  {
   "cell_type": "code",
   "execution_count": 14,
   "metadata": {},
   "outputs": [
    {
     "data": {
      "text/plain": [
       "[1.256168957843545,\n",
       " 1.1115435264165994,\n",
       " 0.40552125481142,\n",
       " 1.1708763392422934,\n",
       " 1.2251789686369121,\n",
       " 1.0521224690189983,\n",
       " 0.19076904039553044,\n",
       " 1.5558050342304153,\n",
       " 0.7187329034369683,\n",
       " 1.5330300483968633]"
      ]
     },
     "execution_count": 14,
     "metadata": {},
     "output_type": "execute_result"
    }
   ],
   "source": [
    "x"
   ]
  },
  {
   "cell_type": "code",
   "execution_count": 15,
   "metadata": {},
   "outputs": [],
   "source": [
    "y = []\n",
    "for _ in range(0,10):\n",
    "    y.append(random.uniform(1.66,0.1))"
   ]
  },
  {
   "cell_type": "code",
   "execution_count": 16,
   "metadata": {},
   "outputs": [
    {
     "data": {
      "text/plain": [
       "[0.9778256222516051,\n",
       " 1.4000916841524818,\n",
       " 0.6034282193516229,\n",
       " 1.2011751144202456,\n",
       " 1.3783220265508354,\n",
       " 1.2535181244917057,\n",
       " 1.5491846280355437,\n",
       " 1.1808848414361075,\n",
       " 0.5796469291772901,\n",
       " 1.2200420340970803]"
      ]
     },
     "execution_count": 16,
     "metadata": {},
     "output_type": "execute_result"
    }
   ],
   "source": [
    "y"
   ]
  },
  {
   "cell_type": "code",
   "execution_count": 20,
   "metadata": {},
   "outputs": [
    {
     "data": {
      "text/plain": [
       "1.1344119223964517"
      ]
     },
     "execution_count": 20,
     "metadata": {},
     "output_type": "execute_result"
    }
   ],
   "source": [
    "#Compute xbar, xvar and xycov using only the np.sum() operation. Find out which numpy functions performs the same computations.\n",
    "xbar = np.sum(x)/len(x)\n",
    "xbar\n",
    "ybar = np.sum(y)/len(y)\n",
    "ybar"
   ]
  },
  {
   "cell_type": "markdown",
   "metadata": {},
   "source": [
    "### Main Distributions:\n",
    "\n",
    "#### Normal Distribution:-\n",
    "The normal distribution ($\\mathcal{N}$) is useful because of the Central Limit Theorem (CLT) which states that: in a given conditions, the arithmetic mean of a large number of random variables, each with well defined expected value and well defined variance, will be normally distributed."
   ]
  },
  {
   "cell_type": "code",
   "execution_count": 29,
   "metadata": {},
   "outputs": [
    {
     "data": {
      "image/png": "[encoded data removed]",
      "text/plain": [
       "<Figure size 432x288 with 1 Axes>"
      ]
     },
     "metadata": {
      "needs_background": "light"
     },
     "output_type": "display_data"
    }
   ],
   "source": [
    "import matplotlib.pyplot as plt\n",
    "from scipy.stats import norm\n",
    "%matplotlib inline\n",
    "\n",
    "mu = 1 #mean\n",
    "variance = 2\n",
    "sigma = np.sqrt(variance) #standard deviation\n",
    "x = np.linspace(mu-3*variance,mu+3*variance, 100)\n",
    "plt.plot(x, norm.pdf(x, mu, sigma));"
   ]
  },
  {
   "cell_type": "markdown",
   "metadata": {},
   "source": [
    "#### The Chi- Square Distribution:-\n",
    "The chi-square distribution ($\\chi^2_n$). In this we select the normal population of size n, having standard deviation equals to $\\sigma$, when sample s and standard deviation $\\sigma$ are equal then we do chi-square. The equation to compute is:<br><br>\n",
    "$\\chi^2 = \\frac{[(n-1)*s^2]}{\\sigma^2}$<br>\n",
    "where,<br>\n",
    "s = sample size,<br>\n",
    "n = degree of freedom<br>\n",
    "$\\sigma^2$ = variance"
   ]
  },
  {
   "cell_type": "markdown",
   "metadata": {},
   "source": [
    "#### The Fisher's F- Distribution\n",
    "The F- Distribution, $F_{n,p}$, with n and p as degree of freedom is the ratio of two independent $\\chi^2$ variables. Let X = $\\chi^2_{n}$ and Y = $\\chi^2_{p}$ then:<br>\n",
    "$F_{n,p} = \\frac{X/n}{Y/p}$<br>\n",
    "The F- test is used in hypothesis testing"
   ]
  },
  {
   "cell_type": "code",
   "execution_count": 24,
   "metadata": {},
   "outputs": [
    {
     "data": {
      "image/png": "[encoded data removed]",
      "text/plain": [
       "<Figure size 432x288 with 1 Axes>"
      ]
     },
     "metadata": {
      "needs_background": "light"
     },
     "output_type": "display_data"
    }
   ],
   "source": [
    "from scipy.stats import f\n",
    "fvalues = np.linspace(.1, 5, 100)\n",
    "# pdf(x, df1, df2): Probability density function at x of F.\n",
    "plt.plot(fvalues, f.pdf(fvalues, 1, 30), 'b-', label=\"F(1, 30)\")\n",
    "plt.plot(fvalues, f.pdf(fvalues, 5, 30), 'r-', label=\"F(5, 30)\")\n",
    "plt.legend()\n",
    "# cdf(x, df1, df2): Cumulative distribution function of F.\n",
    "# ie.\n",
    "proba_at_f_inf_3 = f.cdf(3, 1, 30) # P(F(1,30) < 3)\n",
    "# ppf(q, df1, df2): Percent point function (inverse of cdf) at q of F.\n",
    "f_at_proba_inf_95 = f.ppf(.95, 1, 30) # q such P(F(1,30) < .95)\n",
    "assert f.cdf(f_at_proba_inf_95, 1, 30) == .95\n",
    "# sf(x, df1, df2): Survival function (1 - cdf) at x of F.\n",
    "proba_at_f_sup_3 = f.sf(3, 1, 30) # P(F(1,30) > 3)\n",
    "assert proba_at_f_inf_3 + proba_at_f_sup_3 == 1\n",
    "# p-value: P(F(1, 30)) < 0.05\n",
    "low_proba_fvalues = fvalues[fvalues > f_at_proba_inf_95]\n",
    "plt.fill_between(low_proba_fvalues, 0, f.pdf(low_proba_fvalues, 1, 30),\n",
    "alpha=.8, label=\"P < 0.05\")\n",
    "plt.show()"
   ]
  },
  {
   "cell_type": "markdown",
   "metadata": {},
   "source": [
    "#### The Student's t- distribution\n",
    "Let $M = \\mathcal{N}(0,1)$ and $V = \\chi^2_{n}$. The t- distribution, $T_{n}$, with n degrees of freedom is the ratio of:<br><br>\n",
    "$T_{n} = \\frac{M}{\\sqrt{V/n}}$<br><br>\n",
    "The distribution of the difference between an estimated parameter and its true (or assumed)\n",
    "value divided by the standard deviation of the estimated parameter (standard error) follow a\n",
    "𝑡-distribution."
   ]
  },
  {
   "cell_type": "code",
   "execution_count": null,
   "metadata": {},
   "outputs": [],
   "source": []
  }
 ],
 "metadata": {
  "kernelspec": {
   "display_name": "Python 3",
   "language": "python",
   "name": "python3"
  },
  "language_info": {
   "codemirror_mode": {
    "name": "ipython",
    "version": 3
   },
   "file_extension": ".py",
   "mimetype": "text/x-python",
   "name": "python",
   "nbconvert_exporter": "python",
   "pygments_lexer": "ipython3",
   "version": "3.7.3"
  }
 },
 "nbformat": 4,
 "nbformat_minor": 2
}
